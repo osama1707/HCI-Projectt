{
 "cells": [
  {
   "cell_type": "code",
   "execution_count": 1,
   "metadata": {},
   "outputs": [
    {
     "name": "stdout",
     "output_type": "stream",
     "text": [
      "Circular movement detected! Taking screenshot...\n"
     ]
    }
   ],
   "source": [
    "import mediapipe as mp\n",
    "import cv2\n",
    "from dollarpy import Point, Recognizer, Template\n",
    "import numpy as np\n",
    "import time\n",
    "import pyautogui\n",
    "\n",
    "def getFingerPoints():\n",
    "    mp_hands = mp.solutions.hands\n",
    "    hands = mp_hands.Hands(static_image_mode=False, max_num_hands=1, min_detection_confidence=0.7)\n",
    "\n",
    "    finger_points = []\n",
    "    start_time = time.time()\n",
    "    save_screenshot = False\n",
    "\n",
    "    cap = cv2.VideoCapture(0)\n",
    "    while cap.isOpened():\n",
    "        ret, frame = cap.read()\n",
    "\n",
    "        if not ret:\n",
    "            break\n",
    "\n",
    "        image = cv2.cvtColor(frame, cv2.COLOR_BGR2RGB)\n",
    "        image.flags.writeable = False\n",
    "\n",
    "        results = hands.process(image)\n",
    "\n",
    "        if results.multi_hand_landmarks:\n",
    "            hand_landmarks = results.multi_hand_landmarks[0]\n",
    "            for landmark in hand_landmarks.landmark:\n",
    "                x, y = int(landmark.x * frame.shape[1]), int(landmark.y * frame.shape[0])\n",
    "                finger_points.append(Point(x, y, 0))\n",
    "\n",
    "        if len(finger_points) >= 3:\n",
    "            # Calculate the angle between consecutive finger points\n",
    "            angle_sum = 0\n",
    "            for i in range(len(finger_points) - 2):\n",
    "                p1 = finger_points[i]\n",
    "                p2 = finger_points[i+1]\n",
    "                p3 = finger_points[i+2]\n",
    "                angle = np.degrees(np.arctan2(p3.y - p2.y, p3.x - p2.x) - np.arctan2(p1.y - p2.y, p1.x - p2.x))\n",
    "                angle_sum += angle\n",
    "\n",
    "            # Check if the movement resembles a circular pattern\n",
    "            if abs(angle_sum) > 360:\n",
    "                elapsed_time = time.time() - start_time\n",
    "                if elapsed_time >= 5 and not save_screenshot:\n",
    "                    print(\"Circular movement detected! Taking screenshot...\")\n",
    "                    screenshot = pyautogui.screenshot()\n",
    "                    screenshot.save(\"screenshot.png\")\n",
    "                    save_screenshot = True\n",
    "            else:\n",
    "                save_screenshot = False\n",
    "                start_time = time.time()\n",
    "\n",
    "        cv2.imshow(\"Finger Detection\", frame)\n",
    "        if cv2.waitKey(1) & 0xFF == ord('q'):\n",
    "            break\n",
    "\n",
    "    cap.release()\n",
    "    cv2.destroyAllWindows()\n",
    "\n",
    "    return finger_points\n",
    "\n",
    "# Example usage\n",
    "points = getFingerPoints()\n"
   ]
  }
 ],
 "metadata": {
  "kernelspec": {
   "display_name": "base",
   "language": "python",
   "name": "python3"
  },
  "language_info": {
   "codemirror_mode": {
    "name": "ipython",
    "version": 3
   },
   "file_extension": ".py",
   "mimetype": "text/x-python",
   "name": "python",
   "nbconvert_exporter": "python",
   "pygments_lexer": "ipython3",
   "version": "3.9.13"
  },
  "orig_nbformat": 4
 },
 "nbformat": 4,
 "nbformat_minor": 2
}
