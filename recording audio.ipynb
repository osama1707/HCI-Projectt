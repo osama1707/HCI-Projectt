{
 "cells": [
  {
   "cell_type": "code",
   "execution_count": 2,
   "id": "1ca9ee75",
   "metadata": {},
   "outputs": [
    {
     "name": "stdout",
     "output_type": "stream",
     "text": [
      "Connected\n",
      "################################################################################\n",
      "Please speak word(s) into the microphone\n",
      "Press Ctrl+C to stop the recording\n",
      "Start recording\n",
      "Done recording\n",
      "Result written to output.wav\n",
      "################################################################################\n"
     ]
    }
   ],
   "source": [
    "import pyaudio\n",
    "import wave\n",
    "import socket \n",
    "import pickle\n",
    "CHUNK = 1024\n",
    "FORMAT = pyaudio.paInt16\n",
    "CHANNELS = 2\n",
    "RATE = 44100\n",
    "\n",
    "\n",
    "HOST = '127.0.0.1'     # Symbolic name meaning all available interfaces\n",
    "PORT = 5000              # Arbitrary non-privileged port\n",
    "\n",
    "s = socket.socket(socket.AF_INET, socket.SOCK_STREAM)\n",
    "s.bind((HOST, PORT))\n",
    "s.listen(5)\n",
    "conn, addr = s.accept()\n",
    "print(\"Connected\")\n",
    "msg=b\"hello\"\n",
    "def record():\n",
    "\n",
    "\tp = pyaudio.PyAudio()\n",
    "\n",
    "\tstream = p.open(format=FORMAT,\n",
    "\t\t\t\t\tchannels=CHANNELS,\n",
    "\t\t\t\t\trate=RATE,\n",
    "\t\t\t\t\tinput=True,\n",
    "\t\t\t\t\tframes_per_buffer=CHUNK)\n",
    "\n",
    "\tprint(\"Start recording\")\n",
    "\n",
    "\tframes = []\n",
    "\n",
    "\ttry:\n",
    "\t\twhile True:\n",
    "\t\t\tdata = stream.read(CHUNK)\n",
    "\t\t\tframes.append(data)\n",
    "\texcept KeyboardInterrupt:\n",
    "\t\tprint(\"Done recording\")\n",
    "\texcept Exception as e:\n",
    "\t\tprint(str(e))\n",
    "\n",
    "\tsample_width = p.get_sample_size(FORMAT)\n",
    "\t\n",
    "\tstream.stop_stream()\n",
    "\tstream.close()\n",
    "\tp.terminate()\n",
    "\t\n",
    "\treturn sample_width, frames\t\n",
    "\n",
    "def record_to_file(file_path):\n",
    "\twf = wave.open(file_path, 'wb')\n",
    "\twf.setnchannels(CHANNELS)\n",
    "\tsample_width, frames = record()\n",
    "\twf.setsampwidth(sample_width)\n",
    "\twf.setframerate(RATE)\n",
    "\twf.writeframes(b''.join(frames))\n",
    "\twf.close()\n",
    "\n",
    "if __name__ == '__main__':\n",
    "\tprint('#' * 80)\n",
    "\tprint(\"Please speak word(s) into the microphone\")\n",
    "\tprint('Press Ctrl+C to stop the recording')\n",
    "\t\n",
    "\trecord_to_file('output.wav')\n",
    "\t\n",
    "\tprint(\"Result written to output.wav\")\n",
    "\tprint('#' * 80)\n"
   ]
  },
  {
   "cell_type": "code",
   "execution_count": null,
   "id": "b862a211",
   "metadata": {},
   "outputs": [],
   "source": []
  }
 ],
 "metadata": {
  "kernelspec": {
   "display_name": "Python 3 (ipykernel)",
   "language": "python",
   "name": "python3"
  },
  "language_info": {
   "codemirror_mode": {
    "name": "ipython",
    "version": 3
   },
   "file_extension": ".py",
   "mimetype": "text/x-python",
   "name": "python",
   "nbconvert_exporter": "python",
   "pygments_lexer": "ipython3",
   "version": "3.9.13"
  }
 },
 "nbformat": 4,
 "nbformat_minor": 5
}
